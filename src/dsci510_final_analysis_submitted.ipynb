{
 "cells": [
  {
   "cell_type": "code",
   "execution_count": 1,
   "id": "be7a8c33-77e7-42cf-b979-e0f6b9649efd",
   "metadata": {},
   "outputs": [],
   "source": [
    "import pandas as pd\n"
   ]
  },
  {
   "cell_type": "code",
   "execution_count": 2,
   "id": "49a0bd8e-609b-4a03-b507-514e5de22d6f",
   "metadata": {},
   "outputs": [],
   "source": [
    "my_data = pd.read_csv('clean_data.csv')"
   ]
  },
  {
   "cell_type": "code",
   "execution_count": 3,
   "id": "9477fdf8-fd5a-414a-a08b-45178734a9f0",
   "metadata": {},
   "outputs": [],
   "source": [
    "#my_data.head(30)"
   ]
  },
  {
   "cell_type": "code",
   "execution_count": 4,
   "id": "e367f777-d600-45b3-81d9-1c78b1a1b0fc",
   "metadata": {},
   "outputs": [],
   "source": [
    "downloaded_data = pd.read_csv('downloaded_car_dataset.csv')"
   ]
  },
  {
   "cell_type": "code",
   "execution_count": 5,
   "id": "31237d4d-c557-4821-9f5a-18816fb07352",
   "metadata": {},
   "outputs": [],
   "source": [
    "downloaded_data = downloaded_data.drop(columns=['car_ID'])"
   ]
  },
  {
   "cell_type": "code",
   "execution_count": 6,
   "id": "bf16b2c2-bd5d-45ff-b812-a85320877e36",
   "metadata": {},
   "outputs": [],
   "source": [
    "#downloaded_data.head(15)"
   ]
  },
  {
   "cell_type": "code",
   "execution_count": 7,
   "id": "02bf6b2d-5e80-405c-a747-1c7c01948525",
   "metadata": {},
   "outputs": [],
   "source": [
    "#my_data.dtypes"
   ]
  },
  {
   "cell_type": "code",
   "execution_count": 8,
   "id": "cbcac60e-4007-4868-888f-dd33ec94d23b",
   "metadata": {},
   "outputs": [],
   "source": [
    "#without bucking the worst prediction was around 200B off, with bucketing the worst prediction was 219K off\n",
    "\n",
    "#bucketing some ext colors to reduce dimensions for regression\n",
    "ext_colors = my_data['ext_color'].value_counts()\n",
    "uncommon_colors = list(ext_colors[ext_colors <= 20].index)\n",
    "len(uncommon_colors)\n",
    "my_data['ext_color'] = my_data['ext_color'].replace(uncommon_colors, 'rare color')"
   ]
  },
  {
   "cell_type": "code",
   "execution_count": 9,
   "id": "c1f917c8-c461-4084-89f0-f36cfa858d2c",
   "metadata": {},
   "outputs": [],
   "source": [
    "#bucketing some int colors to reduce dimensions for regression\n",
    "int_colors = my_data['int_color'].value_counts()\n",
    "uncommon_int_colors = list(int_colors[int_colors <= 20].index)\n",
    "len(uncommon_int_colors)\n",
    "my_data['int_color'] = my_data['int_color'].replace(uncommon_int_colors, 'rare interior')"
   ]
  },
  {
   "cell_type": "code",
   "execution_count": 10,
   "id": "4649cc80-2b8d-48d4-94eb-dc504fdc3439",
   "metadata": {},
   "outputs": [],
   "source": [
    "#my_data['int_color'].value_counts()"
   ]
  },
  {
   "cell_type": "code",
   "execution_count": 11,
   "id": "a30179b6-b87e-439e-be00-64271b8ea28b",
   "metadata": {},
   "outputs": [],
   "source": [
    "#analysis using my data\n",
    "my_data = pd.get_dummies(my_data, drop_first=True)"
   ]
  },
  {
   "cell_type": "code",
   "execution_count": 12,
   "id": "eec967d2-5ce6-4fde-a445-3954c12ea095",
   "metadata": {},
   "outputs": [],
   "source": [
    "#my_data.shape"
   ]
  },
  {
   "cell_type": "code",
   "execution_count": 13,
   "id": "bedba190-7c74-496a-b47a-0b6cce32f234",
   "metadata": {},
   "outputs": [],
   "source": [
    "#my_data.head(30)"
   ]
  },
  {
   "cell_type": "code",
   "execution_count": 14,
   "id": "326e6b28-3e28-4b3b-89a8-8d0790998031",
   "metadata": {},
   "outputs": [],
   "source": [
    "#for regression the Y will be the price\n",
    "y = my_data['price']\n",
    "\n",
    "#X will be all the columns that contribute to the price\n",
    "X = my_data.drop(columns = ['price'], axis=1)"
   ]
  },
  {
   "cell_type": "code",
   "execution_count": 15,
   "id": "b6784d8b-bdac-44d2-a620-b98332dd8407",
   "metadata": {},
   "outputs": [],
   "source": [
    "#X.head(15)"
   ]
  },
  {
   "cell_type": "code",
   "execution_count": 16,
   "id": "9f2d54e9-5d70-46d0-8dc6-510730a935de",
   "metadata": {},
   "outputs": [],
   "source": [
    "from sklearn.linear_model import LinearRegression\n",
    "from sklearn.model_selection import train_test_split\n",
    "from sklearn.metrics import mean_absolute_error, max_error"
   ]
  },
  {
   "cell_type": "code",
   "execution_count": 17,
   "id": "63802586-0431-449b-a516-2a7cab864d2b",
   "metadata": {},
   "outputs": [],
   "source": [
    "#splitting to train and test using train test split"
   ]
  },
  {
   "cell_type": "code",
   "execution_count": 18,
   "id": "cab83b35-1921-4b25-b72f-07fc5f0079a6",
   "metadata": {},
   "outputs": [],
   "source": [
    "X_train, X_test, y_train, y_test = train_test_split(X, y, test_size = .2, random_state = 42)"
   ]
  },
  {
   "cell_type": "code",
   "execution_count": 19,
   "id": "5c5d2a62-2b92-4c78-8a6b-af22a279b4ad",
   "metadata": {},
   "outputs": [],
   "source": [
    "#fit the model using the train data\n",
    "reg = LinearRegression().fit(X_train, y_train)\n",
    "\n",
    "#predicted values\n",
    "pred = reg.predict(X_test)"
   ]
  },
  {
   "cell_type": "code",
   "execution_count": 20,
   "id": "c99a982b-ee8a-40d2-8c28-353696455801",
   "metadata": {},
   "outputs": [
    {
     "name": "stdout",
     "output_type": "stream",
     "text": [
      "The mean absolute error is:  18046.024982383104\n"
     ]
    }
   ],
   "source": [
    "#checking some error stats\n",
    "mae = mean_absolute_error(y_test, pred)\n",
    "print('The mean absolute error is: ', mae)"
   ]
  },
  {
   "cell_type": "code",
   "execution_count": 21,
   "id": "4c0c4e04-c197-4d02-b18f-efb2c9370d03",
   "metadata": {},
   "outputs": [
    {
     "name": "stdout",
     "output_type": "stream",
     "text": [
      "The maximum error is:  218791.28935544193\n"
     ]
    }
   ],
   "source": [
    "#checking some error stats\n",
    "top_error = max_error(y_test, pred)\n",
    "print('The maximum error is: ', top_error)"
   ]
  },
  {
   "cell_type": "code",
   "execution_count": 22,
   "id": "333d8e33-7fa8-42ae-b264-27e3959eeb85",
   "metadata": {},
   "outputs": [
    {
     "name": "stderr",
     "output_type": "stream",
     "text": [
      "C:\\Users\\erikc\\anaconda3.1\\lib\\site-packages\\seaborn\\_decorators.py:36: FutureWarning: Pass the following variables as keyword args: x, y. From version 0.12, the only valid positional argument will be `data`, and passing other arguments without an explicit keyword will result in an error or misinterpretation.\n",
      "  warnings.warn(\n"
     ]
    },
    {
     "data": {
      "text/plain": [
       "<AxesSubplot:xlabel='price'>"
      ]
     },
     "execution_count": 22,
     "metadata": {},
     "output_type": "execute_result"
    },
    {
     "data": {
      "image/png": "[encoded data removed]",
      "text/plain": [
       "<Figure size 432x288 with 1 Axes>"
      ]
     },
     "metadata": {
      "needs_background": "light"
     },
     "output_type": "display_data"
    }
   ],
   "source": [
    "#my data summary/visualisations with christmas colors\n",
    "import seaborn as sns\n",
    "\n",
    "sns.regplot(y_test, pred, ci=None, scatter_kws={\"color\": \"green\"}, line_kws = {'color': 'red'})"
   ]
  },
  {
   "cell_type": "code",
   "execution_count": 23,
   "id": "c339521e-1834-463d-8664-da56f625571c",
   "metadata": {},
   "outputs": [
    {
     "name": "stdout",
     "output_type": "stream",
     "text": [
      "[-2.23162526e+00 -9.47833454e+03  1.20720163e+04 -5.18957225e+04\n",
      " -1.78982979e+05 -1.60657825e+05 -1.01763776e+05  2.01405522e+05\n",
      " -8.63307578e+04 -5.96901352e+04  1.82300855e+05  2.36134411e+05\n",
      " -3.04550010e+04 -6.98590131e+04  2.08408250e+04 -8.36766349e+04\n",
      "  2.34296869e+05  6.23963213e+04 -2.05269215e+05 -1.34206951e+05\n",
      " -5.23625484e+02 -1.28218164e+05 -2.69042644e+04 -1.40521333e+05\n",
      "  6.69100939e+04 -6.09101401e+03 -4.30254184e+04 -6.05018916e+04\n",
      " -1.27844353e+05 -1.12511260e+05 -1.90716194e+04 -6.31496075e+04\n",
      "  2.20602400e+03  8.08656212e+03  5.66097599e+03  9.50791326e+03\n",
      "  9.47483107e+03  7.53261186e+03  7.69705150e+03  4.40814422e+03\n",
      "  1.42232785e+03  9.40924240e+03  9.81594524e+03  1.24034932e+04\n",
      "  6.41218743e+03  4.94150637e+03  7.27714419e+03  1.07009651e+04\n",
      "  1.01512735e+03  1.19477671e+04  1.15402803e+04  8.09869491e+03\n",
      "  1.11556656e+04  1.33316086e+04  4.65519339e+03  1.26395867e+03\n",
      " -1.02341538e+04 -3.27504200e+03 -6.45119317e+02  8.40298163e+02\n",
      " -4.22082845e+03  6.77760798e+03  5.60051188e+03  4.27242446e+03\n",
      "  4.44370728e+03  1.65203943e+02 -1.69114737e+04 -3.30755965e+04\n",
      "  4.83062711e+04 -8.22212269e+04 -3.11433082e+04  2.44362719e+04\n",
      "  4.30254184e+04 -6.61320865e+02  7.72714884e+03 -6.76745808e+04]\n",
      "-23587702.09109055\n",
      "['mileage' 'mpg' 'year' 'engine_size' 'name_  360 Modena'\n",
      " 'name_  360 Spider' 'name_  458 Italia Coupe' 'name_  458 Speciale Coupe'\n",
      " 'name_  458 Spider' 'name_  488 GTB' 'name_  488 Pista Coupe'\n",
      " 'name_  488 Pista Spider' 'name_  488 Spider' 'name_  575M Maranello'\n",
      " 'name_  599 GTB Fiorano' 'name_  612 Scaglietti' 'name_  812 GTS'\n",
      " 'name_  812 Superfast' 'name_  California' 'name_  California T'\n",
      " 'name_  F12 Berlinetta' 'name_  F430 Coupe' 'name_  F430 Scuderia'\n",
      " 'name_  F430 Spider' 'name_  F8 Spider' 'name_  F8 Tributo' 'name_  FF'\n",
      " 'name_  GTC4Lusso' 'name_  GTC4Lusso T' 'name_  Portofino'\n",
      " 'name_  Portofino M' 'name_  Roma'\n",
      " 'ext_color_Argento Nurburgring Metallic Exterior'\n",
      " 'ext_color_Bianco Avus Exterior' 'ext_color_Bianco Cervino Exterior'\n",
      " 'ext_color_Black Exterior' 'ext_color_Blu Pozzi Exterior'\n",
      " 'ext_color_Blu Tour De France Metallic Exterior'\n",
      " 'ext_color_Blue Exterior' 'ext_color_Giallo Modena Exterior'\n",
      " 'ext_color_Gray Exterior' 'ext_color_Grigio Silverstone Exterior'\n",
      " 'ext_color_Grigio Silverstone Metallic Exterior'\n",
      " 'ext_color_Grigio Titanio Exterior'\n",
      " 'ext_color_Grigio Titanio Metallic Exterior'\n",
      " 'ext_color_Nero Daytona Exterior'\n",
      " 'ext_color_Nero Daytona Metallic Exterior'\n",
      " 'ext_color_Nero Ds 1250 Exterior' 'ext_color_Nero Exterior'\n",
      " 'ext_color_Red Exterior' 'ext_color_Rosso Corsa Exterior'\n",
      " 'ext_color_Rosso Scuderia Exterior' 'ext_color_White Exterior'\n",
      " 'ext_color_rare color' 'int_color_Beige Tradizione Leather Seats'\n",
      " 'int_color_Black Leather Seats' 'int_color_Bordeaux Leather Seats'\n",
      " 'int_color_Charcoal Leather Seats' 'int_color_Cuoio Leather Seats'\n",
      " 'int_color_Nero Leather Seats' 'int_color_Red Leather Seats'\n",
      " 'int_color_Rosso Ferrari Leather Seats' 'int_color_Sabbia Leather Seats'\n",
      " 'int_color_Tan Leather Seats' 'int_color_rare interior'\n",
      " 'transmission_6-Speed Manual Transmission'\n",
      " 'transmission_6-Speed Shiftable Automatic Transmission'\n",
      " 'transmission_7-Speed Automatic Transmission'\n",
      " 'transmission_7-Speed Shiftable Automatic Transmission'\n",
      " 'transmission_8-Speed Automatic Transmission'\n",
      " 'transmission_Automatic Transmission' 'transmission_Manual Transmission'\n",
      " 'rwd_yes' 'condition_Used' 'engine_info_8-Cylinder Gas Engine'\n",
      " 'engine_info_8-Cylinder Turbo Gas Engine']\n"
     ]
    }
   ],
   "source": [
    "#checking some values of the coefficients and also the intercept\n",
    "print(reg.coef_)\n",
    "print(reg.intercept_)\n",
    "print(X_test.columns.values)"
   ]
  },
  {
   "cell_type": "code",
   "execution_count": 24,
   "id": "43f5b82a-434c-443d-8c39-0d36fab36605",
   "metadata": {},
   "outputs": [
    {
     "data": {
      "text/html": [
       "<div>\n",
       "<style scoped>\n",
       "    .dataframe tbody tr th:only-of-type {\n",
       "        vertical-align: middle;\n",
       "    }\n",
       "\n",
       "    .dataframe tbody tr th {\n",
       "        vertical-align: top;\n",
       "    }\n",
       "\n",
       "    .dataframe thead th {\n",
       "        text-align: right;\n",
       "    }\n",
       "</style>\n",
       "<table border=\"1\" class=\"dataframe\">\n",
       "  <thead>\n",
       "    <tr style=\"text-align: right;\">\n",
       "      <th></th>\n",
       "      <th>coefficient_change</th>\n",
       "      <th>intercept</th>\n",
       "      <th>coefficient_name</th>\n",
       "    </tr>\n",
       "  </thead>\n",
       "  <tbody>\n",
       "    <tr>\n",
       "      <th>0</th>\n",
       "      <td>-2.23</td>\n",
       "      <td>-23,587,702.09</td>\n",
       "      <td>mileage</td>\n",
       "    </tr>\n",
       "    <tr>\n",
       "      <th>1</th>\n",
       "      <td>-9478.33</td>\n",
       "      <td>-23,587,702.09</td>\n",
       "      <td>mpg</td>\n",
       "    </tr>\n",
       "    <tr>\n",
       "      <th>2</th>\n",
       "      <td>12072.02</td>\n",
       "      <td>-23,587,702.09</td>\n",
       "      <td>year</td>\n",
       "    </tr>\n",
       "    <tr>\n",
       "      <th>3</th>\n",
       "      <td>-51895.72</td>\n",
       "      <td>-23,587,702.09</td>\n",
       "      <td>engine_size</td>\n",
       "    </tr>\n",
       "    <tr>\n",
       "      <th>4</th>\n",
       "      <td>-178982.98</td>\n",
       "      <td>-23,587,702.09</td>\n",
       "      <td>name_  360 Modena</td>\n",
       "    </tr>\n",
       "    <tr>\n",
       "      <th>...</th>\n",
       "      <td>...</td>\n",
       "      <td>...</td>\n",
       "      <td>...</td>\n",
       "    </tr>\n",
       "    <tr>\n",
       "      <th>71</th>\n",
       "      <td>24436.27</td>\n",
       "      <td>-23,587,702.09</td>\n",
       "      <td>transmission_Manual Transmission</td>\n",
       "    </tr>\n",
       "    <tr>\n",
       "      <th>72</th>\n",
       "      <td>43025.42</td>\n",
       "      <td>-23,587,702.09</td>\n",
       "      <td>rwd_yes</td>\n",
       "    </tr>\n",
       "    <tr>\n",
       "      <th>73</th>\n",
       "      <td>-661.32</td>\n",
       "      <td>-23,587,702.09</td>\n",
       "      <td>condition_Used</td>\n",
       "    </tr>\n",
       "    <tr>\n",
       "      <th>74</th>\n",
       "      <td>7727.15</td>\n",
       "      <td>-23,587,702.09</td>\n",
       "      <td>engine_info_8-Cylinder Gas Engine</td>\n",
       "    </tr>\n",
       "    <tr>\n",
       "      <th>75</th>\n",
       "      <td>-67674.58</td>\n",
       "      <td>-23,587,702.09</td>\n",
       "      <td>engine_info_8-Cylinder Turbo Gas Engine</td>\n",
       "    </tr>\n",
       "  </tbody>\n",
       "</table>\n",
       "<p>76 rows × 3 columns</p>\n",
       "</div>"
      ],
      "text/plain": [
       "    coefficient_change       intercept  \\\n",
       "0                -2.23  -23,587,702.09   \n",
       "1             -9478.33  -23,587,702.09   \n",
       "2             12072.02  -23,587,702.09   \n",
       "3            -51895.72  -23,587,702.09   \n",
       "4           -178982.98  -23,587,702.09   \n",
       "..                 ...             ...   \n",
       "71            24436.27  -23,587,702.09   \n",
       "72            43025.42  -23,587,702.09   \n",
       "73             -661.32  -23,587,702.09   \n",
       "74             7727.15  -23,587,702.09   \n",
       "75           -67674.58  -23,587,702.09   \n",
       "\n",
       "                           coefficient_name  \n",
       "0                                   mileage  \n",
       "1                                       mpg  \n",
       "2                                      year  \n",
       "3                               engine_size  \n",
       "4                         name_  360 Modena  \n",
       "..                                      ...  \n",
       "71         transmission_Manual Transmission  \n",
       "72                                  rwd_yes  \n",
       "73                           condition_Used  \n",
       "74        engine_info_8-Cylinder Gas Engine  \n",
       "75  engine_info_8-Cylinder Turbo Gas Engine  \n",
       "\n",
       "[76 rows x 3 columns]"
      ]
     },
     "execution_count": 24,
     "metadata": {},
     "output_type": "execute_result"
    }
   ],
   "source": [
    "#making a DF using the coefficients from the regression, the intercept for comparison, and the coefficients names so I can plot them more cleanly in future plots.\n",
    "model1_sum = pd.DataFrame()\n",
    "model1_sum['coefficient_change'] = reg.coef_\n",
    "model1_sum['intercept'] = reg.intercept_\n",
    "model1_sum['coefficient_name'] = X_test.columns.values\n",
    "model1_sum['intercept'] = model1_sum['intercept'].apply('{:,.2f}'.format)\n",
    "model1_sum['coefficient_change'] = model1_sum['coefficient_change'].apply('{:.2f}'.format)\n",
    "model1_sum['coefficient_change'] = model1_sum['coefficient_change'].apply(pd.to_numeric)\n",
    "model1_sum"
   ]
  },
  {
   "cell_type": "code",
   "execution_count": 25,
   "id": "bd9561d5-62ce-4698-b6e0-12702b7223cd",
   "metadata": {},
   "outputs": [
    {
     "data": {
      "text/html": [
       "<div>\n",
       "<style scoped>\n",
       "    .dataframe tbody tr th:only-of-type {\n",
       "        vertical-align: middle;\n",
       "    }\n",
       "\n",
       "    .dataframe tbody tr th {\n",
       "        vertical-align: top;\n",
       "    }\n",
       "\n",
       "    .dataframe thead th {\n",
       "        text-align: right;\n",
       "    }\n",
       "</style>\n",
       "<table border=\"1\" class=\"dataframe\">\n",
       "  <thead>\n",
       "    <tr style=\"text-align: right;\">\n",
       "      <th></th>\n",
       "      <th>coefficient_change</th>\n",
       "      <th>intercept</th>\n",
       "      <th>coefficient_name</th>\n",
       "    </tr>\n",
       "  </thead>\n",
       "  <tbody>\n",
       "    <tr>\n",
       "      <th>11</th>\n",
       "      <td>236134.41</td>\n",
       "      <td>-23,587,702.09</td>\n",
       "      <td>name_  488 Pista Spider</td>\n",
       "    </tr>\n",
       "    <tr>\n",
       "      <th>16</th>\n",
       "      <td>234296.87</td>\n",
       "      <td>-23,587,702.09</td>\n",
       "      <td>name_  812 GTS</td>\n",
       "    </tr>\n",
       "    <tr>\n",
       "      <th>7</th>\n",
       "      <td>201405.52</td>\n",
       "      <td>-23,587,702.09</td>\n",
       "      <td>name_  458 Speciale Coupe</td>\n",
       "    </tr>\n",
       "    <tr>\n",
       "      <th>10</th>\n",
       "      <td>182300.86</td>\n",
       "      <td>-23,587,702.09</td>\n",
       "      <td>name_  488 Pista Coupe</td>\n",
       "    </tr>\n",
       "    <tr>\n",
       "      <th>24</th>\n",
       "      <td>66910.09</td>\n",
       "      <td>-23,587,702.09</td>\n",
       "      <td>name_  F8 Spider</td>\n",
       "    </tr>\n",
       "    <tr>\n",
       "      <th>...</th>\n",
       "      <td>...</td>\n",
       "      <td>...</td>\n",
       "      <td>...</td>\n",
       "    </tr>\n",
       "    <tr>\n",
       "      <th>19</th>\n",
       "      <td>-134206.95</td>\n",
       "      <td>-23,587,702.09</td>\n",
       "      <td>name_  California T</td>\n",
       "    </tr>\n",
       "    <tr>\n",
       "      <th>23</th>\n",
       "      <td>-140521.33</td>\n",
       "      <td>-23,587,702.09</td>\n",
       "      <td>name_  F430 Spider</td>\n",
       "    </tr>\n",
       "    <tr>\n",
       "      <th>5</th>\n",
       "      <td>-160657.83</td>\n",
       "      <td>-23,587,702.09</td>\n",
       "      <td>name_  360 Spider</td>\n",
       "    </tr>\n",
       "    <tr>\n",
       "      <th>4</th>\n",
       "      <td>-178982.98</td>\n",
       "      <td>-23,587,702.09</td>\n",
       "      <td>name_  360 Modena</td>\n",
       "    </tr>\n",
       "    <tr>\n",
       "      <th>18</th>\n",
       "      <td>-205269.21</td>\n",
       "      <td>-23,587,702.09</td>\n",
       "      <td>name_  California</td>\n",
       "    </tr>\n",
       "  </tbody>\n",
       "</table>\n",
       "<p>76 rows × 3 columns</p>\n",
       "</div>"
      ],
      "text/plain": [
       "    coefficient_change       intercept           coefficient_name\n",
       "11           236134.41  -23,587,702.09    name_  488 Pista Spider\n",
       "16           234296.87  -23,587,702.09             name_  812 GTS\n",
       "7            201405.52  -23,587,702.09  name_  458 Speciale Coupe\n",
       "10           182300.86  -23,587,702.09     name_  488 Pista Coupe\n",
       "24            66910.09  -23,587,702.09           name_  F8 Spider\n",
       "..                 ...             ...                        ...\n",
       "19          -134206.95  -23,587,702.09        name_  California T\n",
       "23          -140521.33  -23,587,702.09         name_  F430 Spider\n",
       "5           -160657.83  -23,587,702.09          name_  360 Spider\n",
       "4           -178982.98  -23,587,702.09          name_  360 Modena\n",
       "18          -205269.21  -23,587,702.09          name_  California\n",
       "\n",
       "[76 rows x 3 columns]"
      ]
     },
     "execution_count": 25,
     "metadata": {},
     "output_type": "execute_result"
    }
   ],
   "source": [
    "#sorting the df by descending coefficient change, so the most impactful variables will be at the top and the least impactful will be at the bottom\n",
    "pd.set_option('display.max_rows', 10)\n",
    "model1_sum_sorted = model1_sum.sort_values(by=['coefficient_change'], ascending=False)\n",
    "model1_sum_sorted"
   ]
  },
  {
   "cell_type": "code",
   "execution_count": 26,
   "id": "8f8cb0ef-b3d0-443a-8fbc-650cd26567d7",
   "metadata": {},
   "outputs": [
    {
     "data": {
      "text/plain": [
       "<AxesSubplot:xlabel='coefficient_name'>"
      ]
     },
     "execution_count": 26,
     "metadata": {},
     "output_type": "execute_result"
    },
    {
     "data": {
      "image/png": "[encoded data removed]",
      "text/plain": [
       "<Figure size 432x288 with 1 Axes>"
      ]
     },
     "metadata": {
      "needs_background": "light"
     },
     "output_type": "display_data"
    }
   ],
   "source": [
    "#top ten features that decrease value in a ferrari\n",
    "model1_sum_sorted.tail(10).plot.bar(x='coefficient_name', y='coefficient_change')"
   ]
  },
  {
   "cell_type": "code",
   "execution_count": 27,
   "id": "911181e7-968c-47b7-9b0a-958be7933d1a",
   "metadata": {},
   "outputs": [
    {
     "data": {
      "text/plain": [
       "<AxesSubplot:xlabel='coefficient_name'>"
      ]
     },
     "execution_count": 27,
     "metadata": {},
     "output_type": "execute_result"
    },
    {
     "data": {
      "image/png": "[encoded data removed]",
      "text/plain": [
       "<Figure size 432x288 with 1 Axes>"
      ]
     },
     "metadata": {
      "needs_background": "light"
     },
     "output_type": "display_data"
    }
   ],
   "source": [
    "#the top 10 features that add value in a ferrari\n",
    "model1_sum_sorted.head(10).plot.bar(x='coefficient_name', y='coefficient_change')"
   ]
  },
  {
   "cell_type": "code",
   "execution_count": 28,
   "id": "620182c9-2430-4a8c-b0d6-cdc49c7aed7d",
   "metadata": {},
   "outputs": [],
   "source": [
    "#installing shap and then importing the library\n",
    "\n",
    "#!pip install shap\n",
    "import shap"
   ]
  },
  {
   "cell_type": "code",
   "execution_count": 29,
   "id": "06636c49-9ea4-4a21-99a5-5bb93f7c3e4c",
   "metadata": {},
   "outputs": [],
   "source": [
    "#plotting SHAP values to help explain the contributing variables importances in the regression model\n",
    "explainer = shap.Explainer(reg, X_train, feature_names=X_test.columns.values)\n",
    "shap_values = explainer(X_test)"
   ]
  },
  {
   "cell_type": "code",
   "execution_count": 30,
   "id": "8c173fc9-cee8-4901-88fa-b62f3c278156",
   "metadata": {},
   "outputs": [
    {
     "data": {
      "image/png": "[encoded data removed]",
      "text/plain": [
       "<Figure size 576x396 with 2 Axes>"
      ]
     },
     "metadata": {
      "needs_background": "light"
     },
     "output_type": "display_data"
    }
   ],
   "source": [
    "shap.plots.beeswarm(shap_values)"
   ]
  },
  {
   "cell_type": "code",
   "execution_count": 31,
   "id": "37122a0d-b77a-493a-b0dc-58d0b1aecd93",
   "metadata": {},
   "outputs": [],
   "source": [
    "######################################################################################################################################################\n",
    "#comparing to a downloaded dataset to compare different datasets\n",
    "######################################################################################################################################################"
   ]
  },
  {
   "cell_type": "code",
   "execution_count": 32,
   "id": "1652e60f-8ea1-444c-af2b-65a5a12ee24a",
   "metadata": {},
   "outputs": [],
   "source": [
    "#using downloaded data\n",
    "downloaded_data = pd.get_dummies(downloaded_data, drop_first=True)\n",
    "\n",
    "y2 = downloaded_data['price']\n",
    "X2 = downloaded_data.drop(columns = ['price'])\n",
    "\n",
    "X2_train, X2_test, y2_train, y2_test = train_test_split(X2, y2, test_size = .2, random_state = 42)"
   ]
  },
  {
   "cell_type": "code",
   "execution_count": 33,
   "id": "0da99973-8934-465e-813a-f2d680c49444",
   "metadata": {},
   "outputs": [],
   "source": [
    "#fit the model using the train data\n",
    "reg2 = LinearRegression().fit(X2_train, y2_train)\n",
    "\n",
    "#predicted values\n",
    "pred2 = reg2.predict(X2_test)"
   ]
  },
  {
   "cell_type": "code",
   "execution_count": 34,
   "id": "8fae45a3-712b-4a22-8f00-03482cf9731d",
   "metadata": {},
   "outputs": [
    {
     "name": "stdout",
     "output_type": "stream",
     "text": [
      "The mean absolute error is:  4177.2956313499635\n"
     ]
    }
   ],
   "source": [
    "#checking some error stats\n",
    "mae2 = mean_absolute_error(y2_test, pred2)\n",
    "print('The mean absolute error is: ', mae2)"
   ]
  },
  {
   "cell_type": "code",
   "execution_count": 35,
   "id": "2632926a-35b4-45f1-b0c2-650e4e868e22",
   "metadata": {},
   "outputs": [
    {
     "name": "stdout",
     "output_type": "stream",
     "text": [
      "The maximum error is:  26242.06200092181\n"
     ]
    }
   ],
   "source": [
    "#checking some error stats\n",
    "top_error2 = max_error(y2_test, pred2)\n",
    "print('The maximum error is: ', top_error2)"
   ]
  },
  {
   "cell_type": "code",
   "execution_count": 36,
   "id": "849f86f3-fc2d-4d24-8f9e-da06a7763d7c",
   "metadata": {},
   "outputs": [
    {
     "name": "stderr",
     "output_type": "stream",
     "text": [
      "Pass the following variables as keyword args: x, y. From version 0.12, the only valid positional argument will be `data`, and passing other arguments without an explicit keyword will result in an error or misinterpretation.\n"
     ]
    },
    {
     "data": {
      "text/plain": [
       "<AxesSubplot:xlabel='price'>"
      ]
     },
     "execution_count": 36,
     "metadata": {},
     "output_type": "execute_result"
    },
    {
     "data": {
      "image/png": "[encoded data removed]",
      "text/plain": [
       "<Figure size 432x288 with 1 Axes>"
      ]
     },
     "metadata": {
      "needs_background": "light"
     },
     "output_type": "display_data"
    }
   ],
   "source": [
    "#my data summary/visualisations with christmas colors\n",
    "#plotting the regression line\n",
    "import seaborn as sns\n",
    "\n",
    "sns.regplot(y2_test, pred2, ci=None, scatter_kws={\"color\": \"green\"}, line_kws = {'color': 'red'})"
   ]
  },
  {
   "cell_type": "code",
   "execution_count": 37,
   "id": "976ec879-fa61-4d40-8184-22468a5c5a3a",
   "metadata": {},
   "outputs": [
    {
     "name": "stdout",
     "output_type": "stream",
     "text": [
      "[ 1.11391756e+03  3.94617695e+02 -3.35004775e+02  8.81249664e+02\n",
      " -5.79276391e+02  1.87269560e+01  1.52313676e+01 -5.75538464e+03\n",
      " -2.97300017e+02 -1.44924164e+03 -3.88410209e+01  1.95155448e+00\n",
      " -6.79783059e+01  1.33830069e+02  2.60181624e+03 -5.64040808e+03\n",
      " -2.63540808e+03 -8.63470916e+02 -2.71648909e+03 -2.53085352e+02\n",
      " -1.73287461e+03  2.27373675e-12  2.10727178e+03  3.74666189e+03\n",
      "  1.64390223e+04  1.42141855e+04  2.74667400e-10 -9.09494702e-13\n",
      "  1.28571606e+04  3.86535248e-11 -1.25965016e-10  3.38786776e-10\n",
      " -6.44604370e-11 -2.04524633e+03  9.16573076e+03  1.16326147e+03\n",
      " -2.98718442e+03  1.30285116e-10 -2.49381660e+03 -4.73584449e+03\n",
      " -3.21498196e+03 -8.16699911e+03  2.53749022e-10 -8.89246695e+03\n",
      " -4.03905886e+03 -6.32125404e+03 -3.44771687e+03 -7.25844668e+03\n",
      " -3.99910992e+03 -1.08345860e+03 -4.39750724e+03 -3.29573286e+03\n",
      " -2.36988073e+03 -5.73497148e+03 -1.57121280e+03 -1.30228210e+03\n",
      " -3.72287816e+03 -2.94417414e+03 -1.74887600e+03 -7.82165444e-11\n",
      " -3.13820285e+03 -2.66694407e+03 -5.96694407e+03  8.19091204e+02\n",
      " -8.45149175e+02 -6.89047436e+02 -1.98872145e+03 -3.44030882e+03\n",
      " -1.39202806e+03 -1.10476164e+03  2.43971954e-10 -1.75482409e+03\n",
      " -3.08933879e+03 -1.73394360e+03 -2.38783955e+02 -1.09093807e+03\n",
      " -7.07446831e+03 -6.34954507e+03 -6.65626458e+03 -4.95909442e+03\n",
      " -1.00150794e+04 -7.08010060e+03  1.66892278e-10 -7.13181499e+02\n",
      " -7.33280103e-11 -2.75166072e+03 -1.64033048e+03 -4.97948349e-11\n",
      " -1.42960818e+03 -1.62707206e+03  6.38928729e+02  2.80124368e-10\n",
      "  1.70075509e-10 -2.09613822e+03 -9.96070267e+02 -2.36314107e+03\n",
      "  3.27880634e+02 -4.90938166e+03 -2.35274337e+03 -3.36701488e+03\n",
      " -7.82290663e+02 -2.13126989e+03 -3.44775804e+03 -6.41826393e+03\n",
      " -8.60579213e+03 -4.80013449e+03 -5.61809608e+03 -3.39016303e+03\n",
      "  2.89212933e+03  1.02986985e+04  4.39212933e+03  2.33577278e+03\n",
      " -2.86375785e+03 -4.71554495e+03 -4.29999414e+03 -1.20154458e+03\n",
      " -3.64640128e+03 -5.77748680e+03  1.04805054e-12 -4.42762378e+03\n",
      " -4.73848894e+03 -5.36593095e+03  2.27373675e-13  0.00000000e+00\n",
      " -7.93198840e-13 -1.40975829e+04 -3.73461664e+03 -7.28488608e+03\n",
      " -2.59819427e+03 -2.84849205e+03  6.08989733e-13 -1.65444700e+03\n",
      " -5.82377014e+03 -3.82959796e+03 -1.65179008e+03 -6.87095774e+03\n",
      " -3.22393975e+03 -1.48735199e+03 -3.03996325e+03 -2.04064133e+03\n",
      " -6.72400462e+03 -6.08878404e+02  4.54747351e-13 -3.54611729e+03\n",
      " -6.33755283e+03 -3.17116810e+03 -6.66833289e+03 -6.82121026e-13\n",
      " -2.68021702e+03 -4.69536101e+03 -5.45775460e+03 -2.51093046e+03\n",
      " -3.69527828e+03  7.42758685e+02  9.27345266e+02  4.81732687e+03\n",
      " -4.06410415e+01  9.46246675e+01 -2.64373029e+03 -3.63040093e+03\n",
      " -9.85086611e+03  2.39288499e+02 -2.07545644e+03  3.73055521e+03\n",
      " -1.23020163e+02  1.75353923e+03 -2.65689892e+02  8.40343493e+02\n",
      "  9.49537564e+01  1.84584853e+04 -8.75528143e+02 -1.35427005e+04\n",
      " -5.45355544e+03 -1.85104520e+03 -1.79952224e+03 -4.38317895e+02\n",
      " -1.43191579e+03  3.84082867e+03 -6.04745806e+03  0.00000000e+00\n",
      "  8.19091204e+02 -4.38317895e+02  2.25291443e+03  9.53710162e+02\n",
      "  9.85086611e+03 -4.03905886e+03  1.55849741e+03 -1.31499859e+03\n",
      " -3.17185780e+03]\n",
      "-7925.563933095145\n",
      "['symboling' 'wheelbase' 'carlength' 'carwidth' 'carheight' 'curbweight'\n",
      " 'enginesize' 'boreratio' 'stroke' 'compressionratio' 'horsepower'\n",
      " 'peakrpm' 'citympg' 'highwaympg' 'CarName_alfa-romero Quadrifoglio'\n",
      " 'CarName_alfa-romero giulia' 'CarName_alfa-romero stelvio'\n",
      " 'CarName_audi 100 ls' 'CarName_audi 100ls' 'CarName_audi 4000'\n",
      " 'CarName_audi 5000' 'CarName_audi 5000s (diesel)' 'CarName_audi fox'\n",
      " 'CarName_bmw 320i' 'CarName_bmw x1' 'CarName_bmw x3' 'CarName_bmw x4'\n",
      " 'CarName_bmw x5' 'CarName_bmw z4' 'CarName_buick century'\n",
      " 'CarName_buick century luxus (sw)' 'CarName_buick century special'\n",
      " 'CarName_buick electra 225 custom' 'CarName_buick opel isuzu deluxe'\n",
      " 'CarName_buick regal sport coupe (turbo)' 'CarName_buick skyhawk'\n",
      " 'CarName_buick skylark' 'CarName_chevrolet impala'\n",
      " 'CarName_chevrolet monte carlo' 'CarName_chevrolet vega 2300'\n",
      " 'CarName_dodge challenger se' 'CarName_dodge colt (sw)'\n",
      " 'CarName_dodge colt hardtop' 'CarName_dodge coronet custom'\n",
      " 'CarName_dodge coronet custom (sw)' 'CarName_dodge d200'\n",
      " 'CarName_dodge dart custom' 'CarName_dodge monaco (sw)'\n",
      " 'CarName_dodge rampage' 'CarName_honda accord'\n",
      " 'CarName_honda accord cvcc' 'CarName_honda accord lx'\n",
      " 'CarName_honda civic' 'CarName_honda civic (auto)'\n",
      " 'CarName_honda civic 1300' 'CarName_honda civic 1500 gl'\n",
      " 'CarName_honda civic cvcc' 'CarName_honda prelude' 'CarName_isuzu D-Max '\n",
      " 'CarName_isuzu D-Max V-Cross' 'CarName_isuzu MU-X' 'CarName_jaguar xf'\n",
      " 'CarName_jaguar xj' 'CarName_jaguar xk' 'CarName_maxda glc deluxe'\n",
      " 'CarName_maxda rx3' 'CarName_mazda 626' 'CarName_mazda glc'\n",
      " 'CarName_mazda glc 4' 'CarName_mazda glc custom'\n",
      " 'CarName_mazda glc custom l' 'CarName_mazda glc deluxe'\n",
      " 'CarName_mazda rx-4' 'CarName_mazda rx-7 gs' 'CarName_mazda rx2 coupe'\n",
      " 'CarName_mercury cougar' 'CarName_mitsubishi g4'\n",
      " 'CarName_mitsubishi lancer' 'CarName_mitsubishi mirage'\n",
      " 'CarName_mitsubishi mirage g4' 'CarName_mitsubishi montero'\n",
      " 'CarName_mitsubishi outlander' 'CarName_mitsubishi pajero'\n",
      " 'CarName_nissan clipper' 'CarName_nissan dayz' 'CarName_nissan fuga'\n",
      " 'CarName_nissan gt-r' 'CarName_nissan juke' 'CarName_nissan kicks'\n",
      " 'CarName_nissan latio' 'CarName_nissan leaf' 'CarName_nissan note'\n",
      " 'CarName_nissan nv200' 'CarName_nissan otti' 'CarName_nissan rogue'\n",
      " 'CarName_nissan teana' 'CarName_nissan titan' 'CarName_peugeot 304'\n",
      " 'CarName_peugeot 504' 'CarName_peugeot 504 (sw)'\n",
      " 'CarName_peugeot 505s turbo diesel' 'CarName_peugeot 604sl'\n",
      " 'CarName_plymouth cricket' 'CarName_plymouth duster'\n",
      " 'CarName_plymouth fury gran sedan' 'CarName_plymouth fury iii'\n",
      " 'CarName_plymouth satellite custom (sw)' 'CarName_plymouth valiant'\n",
      " 'CarName_porcshce panamera' 'CarName_porsche boxter'\n",
      " 'CarName_porsche cayenne' 'CarName_porsche macan' 'CarName_renault 12tl'\n",
      " 'CarName_renault 5 gtl' 'CarName_saab 99e' 'CarName_saab 99gle'\n",
      " 'CarName_saab 99le' 'CarName_subaru' 'CarName_subaru baja'\n",
      " 'CarName_subaru brz' 'CarName_subaru dl' 'CarName_subaru r1'\n",
      " 'CarName_subaru r2' 'CarName_subaru trezia' 'CarName_subaru tribeca'\n",
      " 'CarName_toyota carina' 'CarName_toyota celica gt'\n",
      " 'CarName_toyota celica gt liftback' 'CarName_toyota corolla'\n",
      " 'CarName_toyota corolla 1200' 'CarName_toyota corolla 1600 (sw)'\n",
      " 'CarName_toyota corolla liftback' 'CarName_toyota corolla tercel'\n",
      " 'CarName_toyota corona' 'CarName_toyota corona hardtop'\n",
      " 'CarName_toyota corona liftback' 'CarName_toyota corona mark ii'\n",
      " 'CarName_toyota cressida' 'CarName_toyota mark ii'\n",
      " 'CarName_toyota starlet' 'CarName_toyota tercel' 'CarName_toyouta tercel'\n",
      " 'CarName_vokswagen rabbit' 'CarName_volkswagen 1131 deluxe sedan'\n",
      " 'CarName_volkswagen 411 (sw)' 'CarName_volkswagen dasher'\n",
      " 'CarName_volkswagen model 111' 'CarName_volkswagen rabbit'\n",
      " 'CarName_volkswagen rabbit custom' 'CarName_volkswagen super beetle'\n",
      " 'CarName_volkswagen type 3' 'CarName_volvo 144ea'\n",
      " 'CarName_volvo 145e (sw)' 'CarName_volvo 244dl' 'CarName_volvo 245'\n",
      " 'CarName_volvo 246' 'CarName_volvo 264gl' 'CarName_volvo diesel'\n",
      " 'CarName_vw dasher' 'CarName_vw rabbit' 'fueltype_gas' 'aspiration_turbo'\n",
      " 'doornumber_two' 'carbody_hardtop' 'carbody_hatchback' 'carbody_sedan'\n",
      " 'carbody_wagon' 'drivewheel_fwd' 'drivewheel_rwd' 'enginelocation_rear'\n",
      " 'enginetype_dohcv' 'enginetype_l' 'enginetype_ohc' 'enginetype_ohcf'\n",
      " 'enginetype_ohcv' 'enginetype_rotor' 'cylindernumber_five'\n",
      " 'cylindernumber_four' 'cylindernumber_six' 'cylindernumber_three'\n",
      " 'cylindernumber_twelve' 'cylindernumber_two' 'fuelsystem_2bbl'\n",
      " 'fuelsystem_4bbl' 'fuelsystem_idi' 'fuelsystem_mfi' 'fuelsystem_mpfi'\n",
      " 'fuelsystem_spdi' 'fuelsystem_spfi']\n"
     ]
    }
   ],
   "source": [
    "#checking some values of the coefficients and also the intercept\n",
    "print(reg2.coef_)\n",
    "print(reg2.intercept_)\n",
    "print(X2_test.columns.values)"
   ]
  },
  {
   "cell_type": "code",
   "execution_count": 38,
   "id": "1d1fac1c-1859-4448-bb43-e5aa14549ebe",
   "metadata": {},
   "outputs": [
    {
     "data": {
      "text/html": [
       "<div>\n",
       "<style scoped>\n",
       "    .dataframe tbody tr th:only-of-type {\n",
       "        vertical-align: middle;\n",
       "    }\n",
       "\n",
       "    .dataframe tbody tr th {\n",
       "        vertical-align: top;\n",
       "    }\n",
       "\n",
       "    .dataframe thead th {\n",
       "        text-align: right;\n",
       "    }\n",
       "</style>\n",
       "<table border=\"1\" class=\"dataframe\">\n",
       "  <thead>\n",
       "    <tr style=\"text-align: right;\">\n",
       "      <th></th>\n",
       "      <th>coefficient_change</th>\n",
       "      <th>intercept</th>\n",
       "      <th>coefficient_name</th>\n",
       "    </tr>\n",
       "  </thead>\n",
       "  <tbody>\n",
       "    <tr>\n",
       "      <th>0</th>\n",
       "      <td>1113.92</td>\n",
       "      <td>-7,925.56</td>\n",
       "      <td>symboling</td>\n",
       "    </tr>\n",
       "    <tr>\n",
       "      <th>1</th>\n",
       "      <td>394.62</td>\n",
       "      <td>-7,925.56</td>\n",
       "      <td>wheelbase</td>\n",
       "    </tr>\n",
       "    <tr>\n",
       "      <th>2</th>\n",
       "      <td>-335.00</td>\n",
       "      <td>-7,925.56</td>\n",
       "      <td>carlength</td>\n",
       "    </tr>\n",
       "    <tr>\n",
       "      <th>3</th>\n",
       "      <td>881.25</td>\n",
       "      <td>-7,925.56</td>\n",
       "      <td>carwidth</td>\n",
       "    </tr>\n",
       "    <tr>\n",
       "      <th>4</th>\n",
       "      <td>-579.28</td>\n",
       "      <td>-7,925.56</td>\n",
       "      <td>carheight</td>\n",
       "    </tr>\n",
       "    <tr>\n",
       "      <th>...</th>\n",
       "      <td>...</td>\n",
       "      <td>...</td>\n",
       "      <td>...</td>\n",
       "    </tr>\n",
       "    <tr>\n",
       "      <th>184</th>\n",
       "      <td>9850.87</td>\n",
       "      <td>-7,925.56</td>\n",
       "      <td>fuelsystem_idi</td>\n",
       "    </tr>\n",
       "    <tr>\n",
       "      <th>185</th>\n",
       "      <td>-4039.06</td>\n",
       "      <td>-7,925.56</td>\n",
       "      <td>fuelsystem_mfi</td>\n",
       "    </tr>\n",
       "    <tr>\n",
       "      <th>186</th>\n",
       "      <td>1558.50</td>\n",
       "      <td>-7,925.56</td>\n",
       "      <td>fuelsystem_mpfi</td>\n",
       "    </tr>\n",
       "    <tr>\n",
       "      <th>187</th>\n",
       "      <td>-1315.00</td>\n",
       "      <td>-7,925.56</td>\n",
       "      <td>fuelsystem_spdi</td>\n",
       "    </tr>\n",
       "    <tr>\n",
       "      <th>188</th>\n",
       "      <td>-3171.86</td>\n",
       "      <td>-7,925.56</td>\n",
       "      <td>fuelsystem_spfi</td>\n",
       "    </tr>\n",
       "  </tbody>\n",
       "</table>\n",
       "<p>189 rows × 3 columns</p>\n",
       "</div>"
      ],
      "text/plain": [
       "     coefficient_change  intercept coefficient_name\n",
       "0               1113.92  -7,925.56        symboling\n",
       "1                394.62  -7,925.56        wheelbase\n",
       "2               -335.00  -7,925.56        carlength\n",
       "3                881.25  -7,925.56         carwidth\n",
       "4               -579.28  -7,925.56        carheight\n",
       "..                  ...        ...              ...\n",
       "184             9850.87  -7,925.56   fuelsystem_idi\n",
       "185            -4039.06  -7,925.56   fuelsystem_mfi\n",
       "186             1558.50  -7,925.56  fuelsystem_mpfi\n",
       "187            -1315.00  -7,925.56  fuelsystem_spdi\n",
       "188            -3171.86  -7,925.56  fuelsystem_spfi\n",
       "\n",
       "[189 rows x 3 columns]"
      ]
     },
     "execution_count": 38,
     "metadata": {},
     "output_type": "execute_result"
    }
   ],
   "source": [
    "#making a DF using the coefficients from the regression, the intercept for comparison, and the coefficients names so I can plot them more cleanly in future plots.\n",
    "model2_sum = pd.DataFrame()\n",
    "model2_sum['coefficient_change'] = reg2.coef_\n",
    "model2_sum['intercept'] = reg2.intercept_\n",
    "model2_sum['coefficient_name'] = X2_test.columns.values\n",
    "model2_sum['intercept'] = model2_sum['intercept'].apply('{:,.2f}'.format)\n",
    "model2_sum['coefficient_change'] = model2_sum['coefficient_change'].apply('{:.2f}'.format)\n",
    "model2_sum['coefficient_change'] = model2_sum['coefficient_change'].apply(pd.to_numeric)\n",
    "model2_sum"
   ]
  },
  {
   "cell_type": "code",
   "execution_count": 39,
   "id": "bc0306b8-50e0-4035-9e02-448d0409c634",
   "metadata": {},
   "outputs": [
    {
     "data": {
      "text/html": [
       "<div>\n",
       "<style scoped>\n",
       "    .dataframe tbody tr th:only-of-type {\n",
       "        vertical-align: middle;\n",
       "    }\n",
       "\n",
       "    .dataframe tbody tr th {\n",
       "        vertical-align: top;\n",
       "    }\n",
       "\n",
       "    .dataframe thead th {\n",
       "        text-align: right;\n",
       "    }\n",
       "</style>\n",
       "<table border=\"1\" class=\"dataframe\">\n",
       "  <thead>\n",
       "    <tr style=\"text-align: right;\">\n",
       "      <th></th>\n",
       "      <th>coefficient_change</th>\n",
       "      <th>intercept</th>\n",
       "      <th>coefficient_name</th>\n",
       "    </tr>\n",
       "  </thead>\n",
       "  <tbody>\n",
       "    <tr>\n",
       "      <th>169</th>\n",
       "      <td>18458.49</td>\n",
       "      <td>-7,925.56</td>\n",
       "      <td>enginelocation_rear</td>\n",
       "    </tr>\n",
       "    <tr>\n",
       "      <th>24</th>\n",
       "      <td>16439.02</td>\n",
       "      <td>-7,925.56</td>\n",
       "      <td>CarName_bmw x1</td>\n",
       "    </tr>\n",
       "    <tr>\n",
       "      <th>25</th>\n",
       "      <td>14214.19</td>\n",
       "      <td>-7,925.56</td>\n",
       "      <td>CarName_bmw x3</td>\n",
       "    </tr>\n",
       "    <tr>\n",
       "      <th>28</th>\n",
       "      <td>12857.16</td>\n",
       "      <td>-7,925.56</td>\n",
       "      <td>CarName_bmw z4</td>\n",
       "    </tr>\n",
       "    <tr>\n",
       "      <th>109</th>\n",
       "      <td>10298.70</td>\n",
       "      <td>-7,925.56</td>\n",
       "      <td>CarName_porsche boxter</td>\n",
       "    </tr>\n",
       "    <tr>\n",
       "      <th>...</th>\n",
       "      <td>...</td>\n",
       "      <td>...</td>\n",
       "      <td>...</td>\n",
       "    </tr>\n",
       "    <tr>\n",
       "      <th>43</th>\n",
       "      <td>-8892.47</td>\n",
       "      <td>-7,925.56</td>\n",
       "      <td>CarName_dodge coronet custom</td>\n",
       "    </tr>\n",
       "    <tr>\n",
       "      <th>160</th>\n",
       "      <td>-9850.87</td>\n",
       "      <td>-7,925.56</td>\n",
       "      <td>fueltype_gas</td>\n",
       "    </tr>\n",
       "    <tr>\n",
       "      <th>80</th>\n",
       "      <td>-10015.08</td>\n",
       "      <td>-7,925.56</td>\n",
       "      <td>CarName_mitsubishi montero</td>\n",
       "    </tr>\n",
       "    <tr>\n",
       "      <th>171</th>\n",
       "      <td>-13542.70</td>\n",
       "      <td>-7,925.56</td>\n",
       "      <td>enginetype_l</td>\n",
       "    </tr>\n",
       "    <tr>\n",
       "      <th>125</th>\n",
       "      <td>-14097.58</td>\n",
       "      <td>-7,925.56</td>\n",
       "      <td>CarName_toyota carina</td>\n",
       "    </tr>\n",
       "  </tbody>\n",
       "</table>\n",
       "<p>189 rows × 3 columns</p>\n",
       "</div>"
      ],
      "text/plain": [
       "     coefficient_change  intercept              coefficient_name\n",
       "169            18458.49  -7,925.56           enginelocation_rear\n",
       "24             16439.02  -7,925.56                CarName_bmw x1\n",
       "25             14214.19  -7,925.56                CarName_bmw x3\n",
       "28             12857.16  -7,925.56                CarName_bmw z4\n",
       "109            10298.70  -7,925.56        CarName_porsche boxter\n",
       "..                  ...        ...                           ...\n",
       "43             -8892.47  -7,925.56  CarName_dodge coronet custom\n",
       "160            -9850.87  -7,925.56                  fueltype_gas\n",
       "80            -10015.08  -7,925.56    CarName_mitsubishi montero\n",
       "171           -13542.70  -7,925.56                  enginetype_l\n",
       "125           -14097.58  -7,925.56         CarName_toyota carina\n",
       "\n",
       "[189 rows x 3 columns]"
      ]
     },
     "execution_count": 39,
     "metadata": {},
     "output_type": "execute_result"
    }
   ],
   "source": [
    "#sorting the df by descending coefficient change, so the most impactful variables will be at the top and the least impactful will be at the bottom\n",
    "pd.set_option('display.max_rows', 10)\n",
    "model2_sum_sorted = model2_sum.sort_values(by=['coefficient_change'], ascending=False)\n",
    "model2_sum_sorted"
   ]
  },
  {
   "cell_type": "code",
   "execution_count": 40,
   "id": "1bfe0208-cc32-4033-9bfe-417b74bb28d5",
   "metadata": {},
   "outputs": [
    {
     "data": {
      "text/plain": [
       "<AxesSubplot:xlabel='coefficient_name'>"
      ]
     },
     "execution_count": 40,
     "metadata": {},
     "output_type": "execute_result"
    },
    {
     "data": {
      "image/png": "[encoded data removed]",
      "text/plain": [
       "<Figure size 432x288 with 1 Axes>"
      ]
     },
     "metadata": {
      "needs_background": "light"
     },
     "output_type": "display_data"
    }
   ],
   "source": [
    "#top ten features that decrease value in a regular car\n",
    "model2_sum_sorted.tail(10).plot.bar(x='coefficient_name', y='coefficient_change')"
   ]
  },
  {
   "cell_type": "code",
   "execution_count": 41,
   "id": "87fac3dc-f8b3-4ed6-bc4d-cb595604e31e",
   "metadata": {},
   "outputs": [
    {
     "data": {
      "text/plain": [
       "<AxesSubplot:xlabel='coefficient_name'>"
      ]
     },
     "execution_count": 41,
     "metadata": {},
     "output_type": "execute_result"
    },
    {
     "data": {
      "image/png": "[encoded data removed]",
      "text/plain": [
       "<Figure size 432x288 with 1 Axes>"
      ]
     },
     "metadata": {
      "needs_background": "light"
     },
     "output_type": "display_data"
    }
   ],
   "source": [
    "#the top 10 features that add value in a regular car\n",
    "model2_sum_sorted.head(10).plot.bar(x='coefficient_name', y='coefficient_change')"
   ]
  },
  {
   "cell_type": "code",
   "execution_count": 42,
   "id": "2d6d8107-9dc0-4d7a-a351-7e010c33b22b",
   "metadata": {},
   "outputs": [],
   "source": [
    "explainer2 = shap.Explainer(reg2, X2_train, feature_names=X2_test.columns.values)\n",
    "shap_values2 = explainer2(X2_test)"
   ]
  },
  {
   "cell_type": "code",
   "execution_count": 43,
   "id": "e45384c0-5664-4425-b015-e7f836fac6b6",
   "metadata": {},
   "outputs": [
    {
     "data": {
      "image/png": "[encoded data removed]",
      "text/plain": [
       "<Figure size 576x396 with 2 Axes>"
      ]
     },
     "metadata": {
      "needs_background": "light"
     },
     "output_type": "display_data"
    }
   ],
   "source": [
    "#plotting SHAP values to help explain the contributing variables importances in the regression model\n",
    "shap.plots.beeswarm(shap_values2)"
   ]
  },
  {
   "cell_type": "code",
   "execution_count": null,
   "id": "9ff916fa-d3d1-4b47-9658-ea5cbed4f6dc",
   "metadata": {},
   "outputs": [],
   "source": []
  },
  {
   "cell_type": "code",
   "execution_count": null,
   "id": "2f6c6025-71b0-4cc4-8d3f-f12271664835",
   "metadata": {},
   "outputs": [],
   "source": []
  },
  {
   "cell_type": "code",
   "execution_count": null,
   "id": "605db44e-589c-4143-9c80-a6f0c5bf1dd0",
   "metadata": {},
   "outputs": [],
   "source": []
  },
  {
   "cell_type": "code",
   "execution_count": null,
   "id": "d0b75998-3cde-4b4e-86d8-b4c829eebf8b",
   "metadata": {},
   "outputs": [],
   "source": []
  }
 ],
 "metadata": {
  "kernelspec": {
   "display_name": "Python 3 (ipykernel)",
   "language": "python",
   "name": "python3"
  },
  "language_info": {
   "codemirror_mode": {
    "name": "ipython",
    "version": 3
   },
   "file_extension": ".py",
   "mimetype": "text/x-python",
   "name": "python",
   "nbconvert_exporter": "python",
   "pygments_lexer": "ipython3",
   "version": "3.9.7"
  }
 },
 "nbformat": 4,
 "nbformat_minor": 5
}
